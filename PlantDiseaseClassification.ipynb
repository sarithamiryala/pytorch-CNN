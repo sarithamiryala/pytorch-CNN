{
  "nbformat": 4,
  "nbformat_minor": 0,
  "metadata": {
    "colab": {
      "provenance": [],
      "mount_file_id": "1zns9Fv2912CvmYQ6QFMvDJ6Vin_hDeiR",
      "authorship_tag": "ABX9TyORWgCOK+tP4XHTP/OrvGxu",
      "include_colab_link": true
    },
    "kernelspec": {
      "name": "python3",
      "display_name": "Python 3"
    },
    "language_info": {
      "name": "python"
    }
  },
  "cells": [
    {
      "cell_type": "markdown",
      "metadata": {
        "id": "view-in-github",
        "colab_type": "text"
      },
      "source": [
        "<a href=\"https://colab.research.google.com/github/sarithamiryala/pytorch-CNN/blob/main/PlantDiseaseClassification.ipynb\" target=\"_parent\"><img src=\"https://colab.research.google.com/assets/colab-badge.svg\" alt=\"Open In Colab\"/></a>"
      ]
    },
    {
      "cell_type": "code",
      "execution_count": 8,
      "metadata": {
        "id": "4pIoUTXuPeov"
      },
      "outputs": [],
      "source": [
        "import pandas as pd\n",
        "import numpy as np\n",
        "import matplotlib.pyplot as plt\n",
        "import seaborn as sns\n",
        "import torch\n",
        "import torch.nn as nn\n",
        "from torch.utils.data import DataLoader\n",
        "import os\n",
        "from PIL import Image\n",
        "import torch.nn.functional as F\n",
        "import torchvision.transforms as transforms\n",
        "from torchvision.utils import make_grid\n",
        "from torchvision.datasets import ImageFolder\n",
        "from torchsummary import summary\n",
        "\n",
        "%matplotlib inline"
      ]
    },
    {
      "cell_type": "code",
      "source": [
        "# import zipfile\n",
        "# import os\n",
        "\n",
        "# # Path to the ZIP file in Google Drive\n",
        "# zip_path = '/content/drive/MyDrive/PlantDiseaseClassification/archive.zip'\n",
        "\n",
        "# # Extraction path\n",
        "# extract_path = '/content/drive/MyDrive/PlantDiseaseClassification/plant_disease_data'\n",
        "\n",
        "# # Extract the ZIP file\n",
        "# with zipfile.ZipFile(zip_path, 'r') as zip_ref:\n",
        "#     zip_ref.extractall(extract_path)\n",
        "\n",
        "# print(\"Extraction complete!\")"
      ],
      "metadata": {
        "colab": {
          "base_uri": "https://localhost:8080/"
        },
        "id": "UKsCNL-1URud",
        "outputId": "cc165608-7e8b-4164-9434-259d3096adb7"
      },
      "execution_count": 9,
      "outputs": [
        {
          "output_type": "stream",
          "name": "stdout",
          "text": [
            "Extraction complete!\n"
          ]
        }
      ]
    },
    {
      "cell_type": "code",
      "source": [
        "data_dir = \"/content/drive/MyDrive/PlantDiseaseClassification/plant_disease_data/New Plant Diseases Dataset(Augmented)/New Plant Diseases Dataset(Augmented)\"\n",
        "train_dir = data_dir + \"/train\"\n",
        "valid_dir = data_dir + \"/valid\"\n",
        "diseases = os.listdir(train_dir)"
      ],
      "metadata": {
        "id": "P1UQkvfpWqKc"
      },
      "execution_count": 10,
      "outputs": []
    },
    {
      "cell_type": "code",
      "source": [
        "print(diseases)"
      ],
      "metadata": {
        "colab": {
          "base_uri": "https://localhost:8080/"
        },
        "id": "S2FEwBzIjD-A",
        "outputId": "721d7e9f-1d0a-4647-8092-990f4953aa32"
      },
      "execution_count": 11,
      "outputs": [
        {
          "output_type": "stream",
          "name": "stdout",
          "text": [
            "['Apple___Apple_scab', 'Apple___Black_rot', 'Apple___Cedar_apple_rust', 'Apple___healthy', 'Blueberry___healthy', 'Cherry_(including_sour)___Powdery_mildew', 'Cherry_(including_sour)___healthy', 'Corn_(maize)___Cercospora_leaf_spot Gray_leaf_spot', 'Corn_(maize)___Common_rust_', 'Corn_(maize)___Northern_Leaf_Blight', 'Corn_(maize)___healthy', 'Grape___Black_rot', 'Grape___Esca_(Black_Measles)', 'Grape___Leaf_blight_(Isariopsis_Leaf_Spot)', 'Grape___healthy', 'Orange___Haunglongbing_(Citrus_greening)', 'Peach___Bacterial_spot', 'Peach___healthy', 'Pepper,_bell___Bacterial_spot', 'Pepper,_bell___healthy', 'Potato___Early_blight', 'Potato___Late_blight', 'Potato___healthy', 'Raspberry___healthy', 'Soybean___healthy', 'Squash___Powdery_mildew', 'Strawberry___Leaf_scorch', 'Strawberry___healthy', 'Tomato___Bacterial_spot', 'Tomato___Early_blight', 'Tomato___Late_blight', 'Tomato___Leaf_Mold', 'Tomato___Septoria_leaf_spot', 'Tomato___Spider_mites Two-spotted_spider_mite', 'Tomato___Target_Spot', 'Tomato___Tomato_Yellow_Leaf_Curl_Virus', 'Tomato___Tomato_mosaic_virus', 'Tomato___healthy']\n"
          ]
        }
      ]
    },
    {
      "cell_type": "code",
      "source": [
        "print(\"Total disease classes are: {}\".format(len(diseases)))"
      ],
      "metadata": {
        "colab": {
          "base_uri": "https://localhost:8080/"
        },
        "id": "UII-XCZ8jHL-",
        "outputId": "1b44dc45-2a9e-44c5-de7f-387e15c7e9ee"
      },
      "execution_count": 12,
      "outputs": [
        {
          "output_type": "stream",
          "name": "stdout",
          "text": [
            "Total disease classes are: 38\n"
          ]
        }
      ]
    },
    {
      "cell_type": "code",
      "source": [
        "plants = []\n",
        "NumberOfDiseases = 0\n",
        "for plant in diseases:\n",
        "    if plant.split('___')[0] not in plants:\n",
        "        plants.append(plant.split('___')[0])\n",
        "    if plant.split('___')[1] != 'healthy':\n",
        "        NumberOfDiseases += 1"
      ],
      "metadata": {
        "id": "l1hhXxHbjS58"
      },
      "execution_count": 13,
      "outputs": []
    },
    {
      "cell_type": "code",
      "source": [
        "# unique plants in the dataset\n",
        "print(f\"Unique Plants are: \\n{plants}\")"
      ],
      "metadata": {
        "colab": {
          "base_uri": "https://localhost:8080/"
        },
        "id": "qDpmCt3sjfVP",
        "outputId": "0fd07457-e504-45d8-8549-1f31461a6f31"
      },
      "execution_count": 14,
      "outputs": [
        {
          "output_type": "stream",
          "name": "stdout",
          "text": [
            "Unique Plants are: \n",
            "['Apple', 'Blueberry', 'Cherry_(including_sour)', 'Corn_(maize)', 'Grape', 'Orange', 'Peach', 'Pepper,_bell', 'Potato', 'Raspberry', 'Soybean', 'Squash', 'Strawberry', 'Tomato']\n"
          ]
        }
      ]
    },
    {
      "cell_type": "code",
      "source": [
        "# number of unique plants\n",
        "print(\"Number of plants: {}\".format(len(plants)))"
      ],
      "metadata": {
        "colab": {
          "base_uri": "https://localhost:8080/"
        },
        "id": "1eqNWEf1jr2G",
        "outputId": "d7a2e488-5f74-41d6-a65b-07738aa8dc49"
      },
      "execution_count": 15,
      "outputs": [
        {
          "output_type": "stream",
          "name": "stdout",
          "text": [
            "Number of plants: 14\n"
          ]
        }
      ]
    },
    {
      "cell_type": "code",
      "source": [
        "# number of unique diseases\n",
        "print(\"Number of diseases: {}\".format(NumberOfDiseases))"
      ],
      "metadata": {
        "id": "mmjKZzZQj7hG"
      },
      "execution_count": null,
      "outputs": []
    },
    {
      "cell_type": "code",
      "source": [],
      "metadata": {
        "id": "J6Xu-rHRkmUg"
      },
      "execution_count": null,
      "outputs": []
    }
  ]
}